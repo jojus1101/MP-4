{
 "cells": [
  {
   "cell_type": "markdown",
   "metadata": {},
   "source": [
    "# Python Fast Track 1: Introduction to Python\n",
    "#### by Dora Dimitrova @CPHBUS"
   ]
  },
  {
   "cell_type": "markdown",
   "metadata": {},
   "source": [
    "A jump over some Python features that\n",
    "- are unusual and unlike to those of other programming languages\n",
    "- will be useful for the course\n",
    "\n",
    "These include\n",
    "- basic syntax\n",
    "- data types, both simple and composite\n",
    "- control statements\n",
    "- use of packages and functions\n",
    "\n",
    "We will learn more about the usage and other details of the language in the future."
   ]
  },
  {
   "cell_type": "markdown",
   "metadata": {},
   "source": [
    "<span style=\"color:green\">** You're strongly encouraged not to only execute the lines of code in this notebook, but also *play* a bit with them, by modifying them and then executing to see what you get in each case. This applies to all notebooks in the course. **</span>"
   ]
  },
  {
   "cell_type": "markdown",
   "metadata": {},
   "source": [
    "## In This Notebook"
   ]
  },
  {
   "cell_type": "markdown",
   "metadata": {},
   "source": [
    "[Notebook Format](#Notebook-Format)\n",
    "\n",
    "[Comments in Python](#Comments)\n",
    "\n",
    "[Indentation: Whitespace Matters!](#Indentation:-Whitespace-Matters!)\n",
    "\n",
    "[Python Program Building Blocks](#Python-Program-Building-Blocks)\n",
    "\n",
    "[Defining and Using Functions](#Defining-and-Using-Functions)\n",
    "\n",
    "[Loading Packages and Modules](#Loading-Packages-and-Modules)\n",
    "\n",
    "[Python Control Flow](#Python-Control-Flow)"
   ]
  },
  {
   "cell_type": "markdown",
   "metadata": {},
   "source": [
    "## Notebook Format\n",
    "\n",
    "Python scripts are written in Jupyter as documents, consisting of two types of fields: \n",
    "- text field - called __Markdown__\n",
    "- __Code__ cell\n",
    "\n",
    "The text you type in markdown fields can be formated with tag commands (https://en.wikipedia.org/wiki/Markdown).\n",
    "\n",
    "The code you type in the Code cell can be executed immediately by clicking on the Run button above >| . \n",
    "You get the result of it and can continue writing."
   ]
  },
  {
   "cell_type": "markdown",
   "metadata": {},
   "source": [
    "## Python Statements"
   ]
  },
  {
   "cell_type": "markdown",
   "metadata": {},
   "source": [
    "### Comments\n",
    "\n",
    "You can ignore lines or part of lines of code from Python interpretation, if you mark them starting with #\n",
    "\n",
    "Here are some examples:"
   ]
  },
  {
   "cell_type": "code",
   "execution_count": 1,
   "metadata": {},
   "outputs": [
    {
     "name": "stdout",
     "output_type": "stream",
     "text": [
      "/Users/joachimjustesen/Desktop/Business-Intelligence/Python-code1\n"
     ]
    }
   ],
   "source": [
    "!pwd"
   ]
  },
  {
   "cell_type": "code",
   "execution_count": null,
   "metadata": {},
   "outputs": [],
   "source": [
    "# This is a comment line\n",
    "spam = 1  # and this is a part line comment"
   ]
  },
  {
   "cell_type": "code",
   "execution_count": null,
   "metadata": {},
   "outputs": [],
   "source": [
    "print(spam)"
   ]
  },
  {
   "cell_type": "code",
   "execution_count": null,
   "metadata": {},
   "outputs": [],
   "source": [
    "spam"
   ]
  },
  {
   "cell_type": "code",
   "execution_count": null,
   "metadata": {},
   "outputs": [],
   "source": [
    "print(text)"
   ]
  },
  {
   "cell_type": "markdown",
   "metadata": {},
   "source": [
    "### Indentation: Whitespace Matters"
   ]
  },
  {
   "cell_type": "markdown",
   "metadata": {},
   "source": [
    "Here is an example of block of code:\n",
    "``` Python\n",
    "for i in range(10):\n",
    "    if i < midpoint:\n",
    "        lower.append(i)\n",
    "    else:\n",
    "        upper.append(i)\n",
    "```\n",
    "It demonstrates what is perhaps the most controversial feature of Python's syntax: __whitespace is meaningful__!"
   ]
  },
  {
   "cell_type": "markdown",
   "metadata": {},
   "source": [
    "In programming languages, a *block* of code is a set of statements that should be treated as one unit.\n",
    "In C and Java, for example, code blocks are denoted by curly braces:\n",
    "``` C\n",
    "// C code\n",
    "for(int i=0; i<100; i++)\n",
    "   {\n",
    "      // curly braces indicate code block\n",
    "      total += i;\n",
    "   }\n",
    "```"
   ]
  },
  {
   "cell_type": "code",
   "execution_count": null,
   "metadata": {},
   "outputs": [],
   "source": [
    "# In Python, code blocks are denoted by *indentation*:\n",
    "total = 0\n",
    "for i in range(100):\n",
    "    # indentation indicates code block\n",
    "    total += i\n",
    "print(total)"
   ]
  },
  {
   "cell_type": "markdown",
   "metadata": {},
   "source": [
    "In Python, indented code blocks are always preceded by a colon (``:``) on the previous line."
   ]
  },
  {
   "cell_type": "markdown",
   "metadata": {},
   "source": [
    "Python's use of meaningful whitespace often is surprising to programmers who are accustomed to other languages, but in practice it can lead to much more consistent and readable code than languages that do not enforce indentation of code blocks.\n",
    "The use of indentation helps to enforce the uniform, readable style that many find appealing in Python code.\n",
    "But it might be confusing to the uninitiated; for example, the following two snippets will produce different results"
   ]
  },
  {
   "cell_type": "code",
   "execution_count": null,
   "metadata": {},
   "outputs": [],
   "source": [
    "x = 6\n",
    "if x < 4:         \n",
    "    y = x * 2     \n",
    "    print(x)      "
   ]
  },
  {
   "cell_type": "code",
   "execution_count": null,
   "metadata": {},
   "outputs": [],
   "source": [
    "x = 6\n",
    "if x < 4:\n",
    "     y = x * 2\n",
    "print(x)"
   ]
  },
  {
   "cell_type": "markdown",
   "metadata": {},
   "source": [
    "Finally, you should be aware that the *amount* of whitespace used for indenting code blocks is up to the user, as long as it is consistent throughout the script.\n",
    "By convention, most style guides recommend to indent code blocks by __four spaces__, and that is the convention we will follow in this report.\n",
    "Note that many text editors like Emacs and Vim contain Python modes that do four-space indentation automatically, and many programmers just use tab spaces."
   ]
  },
  {
   "cell_type": "code",
   "execution_count": null,
   "metadata": {},
   "outputs": [],
   "source": [
    "x = 1\n",
    "x\n"
   ]
  },
  {
   "cell_type": "code",
   "execution_count": null,
   "metadata": {},
   "outputs": [],
   "source": [
    "if x<0:\n",
    "    y = x*2\n",
    "elif x==0:\n",
    "    y=x\n",
    "else:\n",
    "    y=x*3\n",
    "    \n",
    "y"
   ]
  },
  {
   "cell_type": "markdown",
   "metadata": {},
   "source": [
    "<a name=\"program_structure\"></a>\n",
    "## Python Program Building Blocks\n",
    "Python is an _interpreted_ language, in contrast to Java and C# which are _compiled_ languages\n",
    "- typed in statements are executed __immediately__\n",
    "\n",
    "Python also is an _object-oriented_ language\n",
    "- works with objects, classes and instances\n",
    "Python programmes are built of statements, which operate on data.<br>"
   ]
  },
  {
   "cell_type": "markdown",
   "metadata": {},
   "source": [
    "The program operability is based on both locally created artefacts, as well as on imported ones."
   ]
  },
  {
   "cell_type": "markdown",
   "metadata": {},
   "source": [
    "<a name=\"op_components\"></a>\n",
    "### Operational Components"
   ]
  },
  {
   "cell_type": "markdown",
   "metadata": {},
   "source": [
    "Statements are organized in\n",
    "- packages\n",
    "    - modules\n",
    "        - classes\n",
    "            - methods\n",
    "        - functions\n",
    "            - statements"
   ]
  },
  {
   "cell_type": "markdown",
   "metadata": {},
   "source": [
    "#### Modules"
   ]
  },
  {
   "cell_type": "markdown",
   "metadata": {},
   "source": [
    "A __module__ is a Python source file, which contains classes, functions, or global variables."
   ]
  },
  {
   "cell_type": "code",
   "execution_count": null,
   "metadata": {},
   "outputs": [],
   "source": [
    "# We create a module, when we save Python code in a .py file\n",
    "# Here is an example of a file called printsequence.py\n",
    "\n",
    "def printForward(n):\n",
    "\n",
    "    #print 1 to n\n",
    "    for i in range(n):\n",
    "        print(i+1)\n",
    "\n",
    "\n",
    "def printBackwards(n):\n",
    "\n",
    "    #print n to 1\n",
    "    for i in range(n):\n",
    "        print(n-i)"
   ]
  },
  {
   "cell_type": "code",
   "execution_count": null,
   "metadata": {},
   "outputs": [],
   "source": [
    "# We import that file in another Python programme\n",
    "# Imported file's name is treated as a namespace\n",
    "import printsequence as pseq\n",
    "def callprintseq(k):\n",
    "    pseq.printForward(k)\n",
    "    "
   ]
  },
  {
   "cell_type": "markdown",
   "metadata": {},
   "source": [
    "Now call it in two different ways:"
   ]
  },
  {
   "cell_type": "code",
   "execution_count": null,
   "metadata": {},
   "outputs": [],
   "source": [
    "callprintseq(5)\n"
   ]
  },
  {
   "cell_type": "code",
   "execution_count": null,
   "metadata": {},
   "outputs": [],
   "source": [
    "pseq.printBackwards(3)"
   ]
  },
  {
   "cell_type": "markdown",
   "metadata": {},
   "source": [
    "#### Packages"
   ]
  },
  {
   "cell_type": "markdown",
   "metadata": {},
   "source": [
    " A __package__ in Python is a directory collecting one or more related Python modules. \n",
    " The package also contains definitions of the package details in a file called  \\_\\_init\\_\\_.py."
   ]
  },
  {
   "cell_type": "markdown",
   "metadata": {},
   "source": [
    "#### Python Built-in Modules\n",
    "Run the script below to get the list of the names of the available modules."
   ]
  },
  {
   "cell_type": "code",
   "execution_count": null,
   "metadata": {},
   "outputs": [],
   "source": [
    "import sys\n",
    "a = sys.builtin_module_names\n",
    "print(a)"
   ]
  },
  {
   "cell_type": "markdown",
   "metadata": {},
   "source": [
    "#### Methods and Functions\n",
    "The basic programming units are\n",
    "- functions\n",
    "- methods\n",
    "\n",
    "Both functions and methods are __named blocks of code__ that can be invoked by name. \n",
    "Usually these units have their own scope.  <br>\n",
    "\n",
    "Optionally, they can have _arguments_ that must be specified during the invocation.<br>\n",
    "\n",
    "Optionally, they can _return result_ to the point of invocation.\n",
    "\n",
    "The difference between methods and functions is the following: \n",
    "- __methods__ are defined and belong to a class, and can only be called in the context of this class, for example by the class instances or as static methods of the class  \n",
    "- __functions__ are independent units of code and can be called anywhere, while\n",
    "\n",
    "\n",
    "See the example below.            "
   ]
  },
  {
   "cell_type": "code",
   "execution_count": null,
   "metadata": {},
   "outputs": [],
   "source": [
    "# Create class Door and method open() in it\n",
    "class Door:\n",
    "  def open(self, name):\n",
    "    print ('hello stranger ' + name)"
   ]
  },
  {
   "cell_type": "code",
   "execution_count": null,
   "metadata": {},
   "outputs": [],
   "source": [
    "dd = Door()\n",
    "dd.open('Dora')"
   ]
  },
  {
   "cell_type": "code",
   "execution_count": null,
   "metadata": {},
   "outputs": [],
   "source": [
    "# Function knock_knock() creates an instance of class Door and runs the method open() for this instance\n",
    "def knock_knock():\n",
    "  mydoor = Door()\n",
    "  Door.open(mydoor);"
   ]
  },
  {
   "cell_type": "code",
   "execution_count": null,
   "metadata": {},
   "outputs": [],
   "source": [
    "# Call the function\n",
    "knock_knock()"
   ]
  },
  {
   "cell_type": "markdown",
   "metadata": {},
   "source": [
    "__Exercise__: The method _open()_ is invoked as a static method of the class _Door_. Change the function _knok_knok()_ in such a way that the method _open()_ is called as a method of an instance. Write the new version in the cell below."
   ]
  },
  {
   "cell_type": "code",
   "execution_count": null,
   "metadata": {},
   "outputs": [],
   "source": []
  },
  {
   "cell_type": "code",
   "execution_count": null,
   "metadata": {},
   "outputs": [],
   "source": [
    "mydoor.open();"
   ]
  },
  {
   "cell_type": "code",
   "execution_count": null,
   "metadata": {},
   "outputs": [],
   "source": [
    "knock_knock()"
   ]
  },
  {
   "cell_type": "markdown",
   "metadata": {},
   "source": [
    "## Defining and Using Functions"
   ]
  },
  {
   "cell_type": "markdown",
   "metadata": {},
   "source": [
    "Functions are named groups of code, which may have arguments and can be reused.\n",
    "An example of a function is ``print``:"
   ]
  },
  {
   "cell_type": "code",
   "execution_count": null,
   "metadata": {},
   "outputs": [],
   "source": [
    "print('AI')"
   ]
  },
  {
   "cell_type": "markdown",
   "metadata": {},
   "source": [
    "Here ``print`` is the function name, and ``'abc'`` is the function's *argument*.\n",
    "\n",
    "In addition to arguments, there are *keyword arguments* that are specified by name.\n",
    "One available keyword argument for the ``print()`` function (in Python 3) is ``sep``, which tells what character or characters should be used to separate multiple items:"
   ]
  },
  {
   "cell_type": "code",
   "execution_count": null,
   "metadata": {},
   "outputs": [],
   "source": [
    "print(1, 2, 3)"
   ]
  },
  {
   "cell_type": "code",
   "execution_count": null,
   "metadata": {},
   "outputs": [],
   "source": [
    "print(1, 2, 3, sep='--')"
   ]
  },
  {
   "cell_type": "markdown",
   "metadata": {},
   "source": [
    "When non-keyword arguments are used together with keyword arguments, the keyword arguments must come at the end."
   ]
  },
  {
   "cell_type": "markdown",
   "metadata": {},
   "source": [
    "### Built-In Functions"
   ]
  },
  {
   "cell_type": "markdown",
   "metadata": {},
   "source": [
    "Here is the collection of Python's __built-in functions__.\n",
    "You do not need to import them is a program, as they belong to the same domain space as core Python."
   ]
  },
  {
   "cell_type": "markdown",
   "metadata": {},
   "source": [
    "1 | 2 | 3 | 4 | 5\n",
    "--- | --- | --- | --- | ---\n",
    "abs() |\tdict() |\thelp() |\tmin() |\tsetattr() \n",
    "all() |\tdir() |\thex() |\tnext() |\tslice() \n",
    "any() |\tdivmod() |\tid() |\tobject() |\tsorted() \n",
    "ascii() |\tenumerate() |\tinput() |\toct() |\tstaticmethod() \n",
    "bin() |\teval() |\tint() |\topen() |\tstr() \n",
    "bool() |\texec() |\tisinstance() |\tord() |\tsum() \n",
    "bytearray() |\tfilter() |\tissubclass() |\tpow() |\tsuper() \n",
    "bytes() |\tfloat() |\titer() |\tprint() |\ttuple() \n",
    "callable() |\tformat() |\tlen() |\tproperty() |\ttype() \n",
    "chr() |\tfrozenset() |\tlist() |\trange() |\tvars() \n",
    "classmethod() |\tgetattr() |\tlocals() |\trepr() |\tzip() \n",
    "compile() |\tglobals() |\tmap() |\treversed() |\t\\_\\_import\\_\\_() \n",
    "complex() |\thasattr() |\tmax() |\tround() \t \n",
    "delattr() |\thash() |\tmemoryview() |\tset() \t \n"
   ]
  },
  {
   "cell_type": "markdown",
   "metadata": {},
   "source": [
    "__Exercise:__ Select a function from the table above, search the Python documentation for explanation of using it, and run an example in the cell below."
   ]
  },
  {
   "cell_type": "code",
   "execution_count": null,
   "metadata": {},
   "outputs": [],
   "source": []
  },
  {
   "cell_type": "markdown",
   "metadata": {},
   "source": [
    "### Defining Functions\n",
    "In Python, functions are defined with the ``def`` statement.\n",
    "For example, we can encapsulate a version of Fibonacci sequence code as follows:"
   ]
  },
  {
   "cell_type": "code",
   "execution_count": null,
   "metadata": {},
   "outputs": [],
   "source": [
    "def fibonacci(N):\n",
    "    L = []\n",
    "    a, b = 0, 1\n",
    "    while len(L) < N:\n",
    "        a, b = b, a + b\n",
    "        L.append(a)\n",
    "    return L"
   ]
  },
  {
   "cell_type": "markdown",
   "metadata": {},
   "source": [
    "Now we have a function named ``fibonacci`` which takes a single argument ``N``, does something with this argument, and ``return``s a value - in this case, a list of the first ``N`` Fibonacci numbers."
   ]
  },
  {
   "cell_type": "code",
   "execution_count": null,
   "metadata": {},
   "outputs": [],
   "source": [
    "fibonacci(10)"
   ]
  },
  {
   "cell_type": "markdown",
   "metadata": {},
   "source": [
    "If you're familiar with strongly-typed languages like ``C``, you'll immediately notice that there is no type information associated with the function inputs or outputs.\n",
    "Python functions can return any Python object, simple or compound, which means constructs that may be difficult in other languages are straightforward in Python.\n",
    "\n",
    "For example, multiple return values are simply put in a tuple, which is indicated by commas:"
   ]
  },
  {
   "cell_type": "code",
   "execution_count": null,
   "metadata": {},
   "outputs": [],
   "source": [
    "def real_imag_conj(val):\n",
    "    return val.real, val.imag, val.conjugate()\n",
    "\n",
    "r, i, c = real_imag_conj(3 + 4j)\n",
    "print(r, i, c)"
   ]
  },
  {
   "cell_type": "markdown",
   "metadata": {},
   "source": [
    "## Loading Packages and Modules"
   ]
  },
  {
   "cell_type": "markdown",
   "metadata": {},
   "source": [
    "One feature of Python distribution that makes it useful for a wide range of tasks is the fact that it contains standard library with various useful tools for a wide range of tasks.\n",
    "In addition, there is a broad ecosystem of third-party tools and packages that offer more specialized functionality."
   ]
  },
  {
   "cell_type": "markdown",
   "metadata": {},
   "source": [
    "### The ``import`` Statement\n",
    "\n",
    "For loading built-in and third-party modules, Python provides the ``import`` statement.\n",
    "There are a few ways to use the statement."
   ]
  },
  {
   "cell_type": "code",
   "execution_count": null,
   "metadata": {},
   "outputs": [],
   "source": [
    "# import <package>                                       - to import the entire package\n",
    "# import <module>                                        - to import the entire module\n",
    "# from <package> import <module or subpackage or object> - to import a specific module from a package\n",
    "# from <modulename> import <classname or object>         - to import a single class from a module\n",
    "\n",
    "# dir(<module>)                                          - explores the content of the module"
   ]
  },
  {
   "cell_type": "markdown",
   "metadata": {},
   "source": [
    "### Explicit module import\n",
    "\n",
    "Explicit import of a module preserves the module's content in a namespace.\n",
    "The namespace is then used to refer to its contents with a \"``.``\" between them.\n",
    "For example, here we'll import the built-in ``math`` module and compute the cosine of pi:"
   ]
  },
  {
   "cell_type": "code",
   "execution_count": null,
   "metadata": {},
   "outputs": [],
   "source": [
    "import math\n",
    "math.cos(math.pi)"
   ]
  },
  {
   "cell_type": "markdown",
   "metadata": {},
   "source": [
    "### Explicit module import by alias\n",
    "\n",
    "For longer module names, it's not convenient to use the full module name each time you access some element.\n",
    "For this reason, we'll commonly use the \"``import ... as ...``\" pattern to create a shorter alias for the namespace.\n",
    "For example, the NumPy (Numerical Python) package, a popular third-party package useful for data science, is by convention imported under the alias ``np``:"
   ]
  },
  {
   "cell_type": "code",
   "execution_count": null,
   "metadata": {},
   "outputs": [],
   "source": [
    "import numpy as np\n",
    "np.cos(np.pi)"
   ]
  },
  {
   "cell_type": "markdown",
   "metadata": {},
   "source": [
    "### Explicit import of module contents\n",
    "\n",
    "Sometimes rather than importing the module namespace, you would just like to import a few particular items from the module.\n",
    "This can be done with the \"``from ... import ...``\" pattern.\n",
    "For example, we can import just the ``cos`` function and the ``pi`` constant from the ``math`` module:"
   ]
  },
  {
   "cell_type": "code",
   "execution_count": null,
   "metadata": {},
   "outputs": [],
   "source": [
    "from math import cos, pi\n",
    "cos(pi)"
   ]
  },
  {
   "cell_type": "markdown",
   "metadata": {},
   "source": [
    "### Implicit import of module contents\n",
    "\n",
    "Finally, it is sometimes useful to import the entirety of the module contents into the local namespace.\n",
    "This can be done with the \"``from ... import *``\" pattern:"
   ]
  },
  {
   "cell_type": "code",
   "execution_count": null,
   "metadata": {},
   "outputs": [],
   "source": [
    "from math import *\n",
    "sin(pi) ** 2 + cos(pi) ** 2"
   ]
  },
  {
   "cell_type": "markdown",
   "metadata": {},
   "source": [
    "This pattern should be used sparingly, if at all.\n",
    "The problem is that such imports can sometimes overwrite function names that you do not intend to overwrite, and the implicitness of the statement makes it difficult to determine what has changed."
   ]
  },
  {
   "cell_type": "markdown",
   "metadata": {},
   "source": [
    "\n",
    "<a name=\"dat\"></a>\n",
    "### Examples: Date and Time\n",
    "A special data type, processed by methods from classes in module `datetime`"
   ]
  },
  {
   "cell_type": "code",
   "execution_count": null,
   "metadata": {},
   "outputs": [],
   "source": [
    "# import datetime class\n",
    "from datetime import datetime\n",
    "\n",
    "today = datetime.now()\n",
    "print  (\"The current date and time is \", today)\n",
    "\n",
    "d = datetime.date(datetime.now())\n",
    "print (\"The current date is \", d)\n",
    "\n",
    "t = datetime.time(datetime.now())\n",
    "print (\"The current time is \", t)"
   ]
  },
  {
   "cell_type": "code",
   "execution_count": null,
   "metadata": {},
   "outputs": [],
   "source": [
    "# Alternatively, import date class\n",
    "from datetime import date\n",
    "\n",
    "# create instances\n",
    "today = date.today()\n",
    "\n",
    "# use the instance\n",
    "print(today)\n",
    "print(today.day, today.month, today.year)\n",
    "\n",
    "days = [\"Monday\",\"Tuesday\",\"Wednesday\",\"Thursday\",\"Friday\",\"Saturday\",\"Sunday\"]\n",
    "print(days[today.weekday()])\n",
    "\n",
    "print(today)"
   ]
  },
  {
   "cell_type": "code",
   "execution_count": null,
   "metadata": {},
   "outputs": [],
   "source": [
    "# Alternatively, format the output\n",
    "today = datetime.now()\n",
    "\n",
    "# %y/%Y - Year, %a/%A - weekday, %b/%B - month, %d - day of month\n",
    "print (today.strftime(\"Today is: %a, %d %B, %Y\")) # abbreviated day, num, full month, abbreviated year\n",
    "\n",
    "# %I/%H - 12/24 Hour, %M - minute, %S - second, %p - locale's AM/PM\n",
    "# %c - locale's date and time, %x - locale's date, %X - locale's time\n",
    "# print (today.strftime(\"Current time: %H:%m:%s %p\")) \n",
    "print (today.strftime(\"Current time: %X\")) "
   ]
  },
  {
   "cell_type": "code",
   "execution_count": null,
   "metadata": {},
   "outputs": [],
   "source": [
    "# or just\n",
    "import time\n",
    "now = time.ctime()\n",
    "\n",
    "# make a pause in the program\n",
    "time.sleep(5)\n",
    "\n",
    "# print after 5 sec\n",
    "now"
   ]
  },
  {
   "cell_type": "markdown",
   "metadata": {},
   "source": [
    "<a name=\"url\"></a>\n",
    "### Examples: Web URL\n",
    "A special class `webbrowser`"
   ]
  },
  {
   "cell_type": "code",
   "execution_count": null,
   "metadata": {},
   "outputs": [],
   "source": [
    "import webbrowser\n",
    "# open a connection to a URL \n",
    "myURL = \"https://youtu.be/BzrI15uw92k\"\n",
    "webbrowser.open(myURL, new=2)  \n",
    "# means open in a new window"
   ]
  },
  {
   "cell_type": "markdown",
   "metadata": {},
   "source": [
    "<a name=\"url\"></a>\n",
    "### Web URL\n",
    "A special class `webbrowser`"
   ]
  },
  {
   "cell_type": "code",
   "execution_count": null,
   "metadata": {},
   "outputs": [],
   "source": [
    "import webbrowser\n",
    "# open a connection to a URL \n",
    "myURL = \"https://youtu.be/BzrI15uw92k\"\n",
    "webbrowser.open(myURL, new=2)  \n",
    "# means open in a new window"
   ]
  },
  {
   "cell_type": "markdown",
   "metadata": {},
   "source": [
    "<hr>"
   ]
  },
  {
   "cell_type": "markdown",
   "metadata": {},
   "source": [
    "## Python Control Flow"
   ]
  },
  {
   "cell_type": "markdown",
   "metadata": {},
   "source": [
    "*Control flow* manages the order of execution of the individual statements.\n",
    "With control flow, you can execute certain code blocks conditionally and/or repeatedly.\n",
    "\n",
    "The major statements, which change the natural sequence of the code are the\n",
    "- conditional statements and\n",
    "- repetition statements\n",
    "\n",
    "Python *conditional statements* include \"``if``\", \"``elif``\", and \"``else``\", *loop statements* include \"``for``\" and \"``while``\", as well as the associated \"``break``\", \"``continue``\", and \"``pass``\"."
   ]
  },
  {
   "cell_type": "markdown",
   "metadata": {},
   "source": [
    "### Making Choices - Conditional Statements ``if``-``elif``-``else``:\n",
    "Conditional statements, often referred to as *if-then* statements, allow the programmer to execute certain pieces of code depending on some Boolean condition.\n",
    "Here is a basic example of a Python conditional statement:"
   ]
  },
  {
   "cell_type": "code",
   "execution_count": null,
   "metadata": {},
   "outputs": [],
   "source": [
    "# Example\n",
    "x = -15\n",
    "\n",
    "if x == 0:\n",
    "    print(x, \"is zero\")\n",
    "elif x > 0:\n",
    "    print(x, \"is positive\")\n",
    "elif x < 0:\n",
    "    print(x, \"is negative\")\n",
    "else:\n",
    "    print(x, \"is unlike anything I've ever seen...\")"
   ]
  },
  {
   "cell_type": "markdown",
   "metadata": {},
   "source": [
    "Notice the colon : and the identations.<br>\n",
    "Notice the comparissons of conditions (==), as they differ from an assignment (=)"
   ]
  },
  {
   "cell_type": "markdown",
   "metadata": {},
   "source": [
    "Python adopts the ``if`` and ``else`` used in the other languages, and adds the more unique keyword ``elif``, a contraction of \"else if\".\n",
    "The ``elif`` and ``else`` blocks are optional; can be omitted or included as many ``elif`` as needed."
   ]
  },
  {
   "cell_type": "markdown",
   "metadata": {},
   "source": [
    "Here are more examples:"
   ]
  },
  {
   "cell_type": "code",
   "execution_count": null,
   "metadata": {},
   "outputs": [],
   "source": [
    "# A function that tests an integer value, like above\n",
    "def TestValue(val):\n",
    "    if val > 0:\n",
    "        print('positive')\n",
    "    elif val < 0:\n",
    "        print('negative')\n",
    "    else:\n",
    "        print ('something else')\n",
    "        print(val)    \n",
    "    print ('end')\n",
    "    "
   ]
  },
  {
   "cell_type": "markdown",
   "metadata": {},
   "source": [
    "Test the function with different arguments: positive, negative, zero, or a character."
   ]
  },
  {
   "cell_type": "code",
   "execution_count": null,
   "metadata": {},
   "outputs": [],
   "source": [
    "TestValue(-4)"
   ]
  },
  {
   "cell_type": "markdown",
   "metadata": {
    "collapsed": true,
    "jupyter": {
     "outputs_hidden": true
    }
   },
   "source": [
    "Create an example of a function that compares two integer values and returns the biggest"
   ]
  },
  {
   "cell_type": "code",
   "execution_count": null,
   "metadata": {},
   "outputs": [],
   "source": []
  },
  {
   "cell_type": "markdown",
   "metadata": {
    "collapsed": true,
    "jupyter": {
     "outputs_hidden": true
    }
   },
   "source": [
    "Can you create a better example, a function that compares three values and returns the biggest?\n"
   ]
  },
  {
   "cell_type": "code",
   "execution_count": null,
   "metadata": {},
   "outputs": [],
   "source": []
  },
  {
   "cell_type": "code",
   "execution_count": null,
   "metadata": {},
   "outputs": [],
   "source": [
    "# Multiple options with nested ifs\n",
    "# Notice the identation and pairing of if-else\n",
    "def SecretNumber():\n",
    "    one = int(input(\"Enter number between 1 and 10: \"))\n",
    "    two = int(input(\"Enter number between 1 and 10: \"))\n",
    "    \n",
    "    if one * two == 0: \n",
    "        print('incorrect data, try again')\n",
    "        return;\n",
    "    if one in range(10):\n",
    "        if two in range(10):\n",
    "            print ('your secret number is ' + str(one * two))\n",
    "        else:\n",
    "            print ('incorrect two')\n",
    "    else:\n",
    "        print ('incorrect one')  \n",
    "    print ('end')\n",
    "    \n",
    "# Test the function with different arguments\n",
    "SecretNumber()"
   ]
  },
  {
   "cell_type": "code",
   "execution_count": null,
   "metadata": {},
   "outputs": [],
   "source": [
    "# Your turn to program the following case:\n",
    "# I play golf, if it is not raining and not blowing.\n",
    "# If it is just raining, I go for a walk; if it is just blowing, I go to a cinema; \n",
    "# in terrible weather I stay home\n",
    "\n"
   ]
  },
  {
   "cell_type": "code",
   "execution_count": null,
   "metadata": {},
   "outputs": [],
   "source": []
  },
  {
   "cell_type": "markdown",
   "metadata": {},
   "source": [
    "### Repeating Code - Loop Statements  `for`  and  `while` "
   ]
  },
  {
   "cell_type": "markdown",
   "metadata": {},
   "source": [
    "#### `for` loop\n",
    "Itarates number of times, which has been decided before the loop starts<br>\n"
   ]
  },
  {
   "cell_type": "code",
   "execution_count": null,
   "metadata": {},
   "outputs": [],
   "source": [
    "for N in [2, 3, 5, 7]:\n",
    "    print(N, end=' ') # print all items on same line"
   ]
  },
  {
   "cell_type": "markdown",
   "metadata": {},
   "source": [
    "The object to the right of the \"``in``\" can be any Python *iterator*. \n",
    "One of the most common iterators in Python is the ``range`` object, which generates a sequence of numbers:"
   ]
  },
  {
   "cell_type": "code",
   "execution_count": null,
   "metadata": {},
   "outputs": [],
   "source": [
    "for i in range(10):\n",
    "    print(i, end=' ')"
   ]
  },
  {
   "cell_type": "markdown",
   "metadata": {},
   "source": [
    "Note that the range starts at zero by default, and that by convention the top of the range is not included in the output.\n",
    "Range objects can also have more complicated values:"
   ]
  },
  {
   "cell_type": "code",
   "execution_count": null,
   "metadata": {},
   "outputs": [],
   "source": [
    "# range from 5 to 10\n",
    "list(range(5, 10))"
   ]
  },
  {
   "cell_type": "code",
   "execution_count": null,
   "metadata": {},
   "outputs": [],
   "source": [
    "# range from 0 to 10 by 2\n",
    "list(range(0, 10, 2))"
   ]
  },
  {
   "cell_type": "markdown",
   "metadata": {},
   "source": [
    "- __break__ breaks the loop u\n",
    "- __continue__ interrupts the current iteration, ignores the remaining statemeents of it, and starts the next iteration<br>"
   ]
  },
  {
   "cell_type": "code",
   "execution_count": null,
   "metadata": {},
   "outputs": [],
   "source": [
    "# Example: Iterates through all items in the list args and searches for the words break and continue\n",
    "def multi(*args):\n",
    "    for i, arg in enumerate(args):\n",
    "        if arg.upper() == 'CONTINUE':\n",
    "            print('Continue has index ' + str(args.index(arg)))\n",
    "            continue\n",
    "        elif arg.upper() == 'BREAK':\n",
    "            print('Break has index ' + str(args.index(arg)))\n",
    "            break\n",
    "        print(\"arg[%i] =%s\" %(i, arg))\n",
    "                 "
   ]
  },
  {
   "cell_type": "code",
   "execution_count": null,
   "metadata": {},
   "outputs": [],
   "source": [
    "# test\n",
    "multi('Hi', 'How are you?', 'Continue', 'Break', 'Bye', 'Last')   "
   ]
  },
  {
   "cell_type": "code",
   "execution_count": null,
   "metadata": {},
   "outputs": [],
   "source": [
    "# range from 0 to 10 by 2\n",
    "list(range(0, 10, 2))"
   ]
  },
  {
   "cell_type": "markdown",
   "metadata": {},
   "source": [
    "You might notice that the meaning of ``range`` arguments is very similar to the slicing syntax.\n",
    "\n",
    "Note that the behavior of ``range()`` is one of the differences between Python 2 and Python 3: in Python 2, ``range()`` produces a list, while in Python 3, ``range()`` produces an iterable object."
   ]
  },
  {
   "cell_type": "markdown",
   "metadata": {},
   "source": [
    "#### ``while`` loop\n",
    "The other type of loop in Python is a ``while`` loop, which iterates __until some condition remains true__, stops otherwise"
   ]
  },
  {
   "cell_type": "code",
   "execution_count": null,
   "metadata": {},
   "outputs": [],
   "source": [
    "i = 0\n",
    "while i < 10:\n",
    "    print(i, end=' ')\n",
    "    i += 1"
   ]
  },
  {
   "cell_type": "markdown",
   "metadata": {},
   "source": [
    "The argument of the ``while`` loop is evaluated as a boolean statement, and the loop is executed until the statement evaluates to False."
   ]
  },
  {
   "cell_type": "code",
   "execution_count": null,
   "metadata": {},
   "outputs": [],
   "source": [
    "# Repeat while the entered numbers are wrong\n",
    "# Stop after the first correct combination arrives\n",
    "def SecretNumberAgain():\n",
    "    wrong = True\n",
    "    while wrong == True:\n",
    "        one = int(input(\"Enter number between 1 and 10: \"))\n",
    "        two = int(input(\"Enter number between 1 and 10: \"))\n",
    "\n",
    "        if one * two == 0: \n",
    "            print('incorrect data, try again')\n",
    "            continue\n",
    "        if one in range(10):\n",
    "            if two in range(10):\n",
    "                print ('your secret number is ' + str(one * two))\n",
    "                print ('end')\n",
    "                wrong = False\n",
    "                break\n",
    "            else:\n",
    "                print ('incorrect two, try again')\n",
    "        else:\n",
    "            print ('incorrect one, try again')  "
   ]
  },
  {
   "cell_type": "markdown",
   "metadata": {},
   "source": [
    "How many are the possible combinations of conditions?\n",
    "Explain the use of break and continue"
   ]
  },
  {
   "cell_type": "code",
   "execution_count": null,
   "metadata": {},
   "outputs": [],
   "source": [
    "# Test the function with different input data\n",
    "SecretNumberAgain()"
   ]
  },
  {
   "cell_type": "markdown",
   "metadata": {},
   "source": [
    "### Reference\n",
    "Mueller, Masaron, ML for Dummies, Willey, 2016<br>\n",
    "Examples from <a href=\"https://github.com/jakevdp/WhirlwindTourOfPython\">this online tutorial</a> <br>\n",
    "Contribution from <a href=\"mailto://lorr@kea.dk\">Lorena</a>"
   ]
  }
 ],
 "metadata": {
  "kernelspec": {
   "display_name": "Python [conda env:base] *",
   "language": "python",
   "name": "conda-base-py"
  },
  "language_info": {
   "codemirror_mode": {
    "name": "ipython",
    "version": 3
   },
   "file_extension": ".py",
   "mimetype": "text/x-python",
   "name": "python",
   "nbconvert_exporter": "python",
   "pygments_lexer": "ipython3",
   "version": "3.12.7"
  }
 },
 "nbformat": 4,
 "nbformat_minor": 4
}
